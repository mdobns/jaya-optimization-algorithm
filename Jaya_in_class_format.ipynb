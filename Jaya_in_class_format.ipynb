{
  "nbformat": 4,
  "nbformat_minor": 0,
  "metadata": {
    "colab": {
      "provenance": [],
      "authorship_tag": "ABX9TyOmjE8pUFG1FKoCGM3pxMRh",
      "include_colab_link": true
    },
    "kernelspec": {
      "name": "python3",
      "display_name": "Python 3"
    },
    "language_info": {
      "name": "python"
    }
  },
  "cells": [
    {
      "cell_type": "markdown",
      "metadata": {
        "id": "view-in-github",
        "colab_type": "text"
      },
      "source": [
        "<a href=\"https://colab.research.google.com/github/mdobns/jaya-optimization-algorithm/blob/main/Jaya_in_class_format.ipynb\" target=\"_parent\"><img src=\"https://colab.research.google.com/assets/colab-badge.svg\" alt=\"Open In Colab\"/></a>"
      ]
    },
    {
      "cell_type": "code",
      "execution_count": null,
      "metadata": {
        "id": "_67YRjZ5Gi0b"
      },
      "outputs": [],
      "source": [
        "import random\n",
        "import numpy as np\n",
        "\n",
        "class Jaya:\n",
        "    def __init__(self, p, d, termination, ub, lb):\n",
        "        self.f_x = []\n",
        "        self.k_x = []\n",
        "        self.p = p\n",
        "        self.d = d\n",
        "        self.termination = termination\n",
        "        self.ub = ub\n",
        "        self.lb = lb\n",
        "\n",
        "    def generate_random(self, min_bound, max_bound, dimension):\n",
        "        return [random.uniform(min_bound, max_bound) for _ in range(dimension)]\n",
        "\n",
        "    def evaluate(self, xx):\n",
        "        d = len(xx)\n",
        "        int_sum = 0\n",
        "        for i in range(d):\n",
        "            int_sum += xx[i]**2\n",
        "        return int_sum\n",
        "\n",
        "    def find_sol(self):\n",
        "        for i in range(self.p):\n",
        "            gr = self.generate_random(self.ub, self.lb, self.d)\n",
        "            self.k_x.append(gr)\n",
        "            ev = self.evaluate(gr)\n",
        "            self.f_x.append(ev)\n",
        "            print(i, \":\\t\", gr, ev)\n",
        "        return self.f_x, self.k_x\n",
        "\n",
        "    def jaya(self):\n",
        "        for iter in range(self.termination):\n",
        "            k_x2 = []\n",
        "            f_x2 = []\n",
        "            max_sol = max(self.f_x)\n",
        "            min_sol = min(self.f_x)\n",
        "            index_min = self.f_x.index(min_sol)\n",
        "            index_max = self.f_x.index(max_sol)\n",
        "            x_max = self.k_x[index_max]\n",
        "            x_min = self.k_x[index_min]\n",
        "            for i in self.k_x:\n",
        "                temp_list = []\n",
        "                m = 0\n",
        "                for j in i:\n",
        "                    new_x1 = j + (np.random.uniform(0, 1) * (x_min[m] - np.abs(j))) - (\n",
        "                        np.random.uniform(0, 1) * (x_max[m] - np.abs(j)))\n",
        "                    temp_list.append(new_x1)\n",
        "                    m += 1\n",
        "                k_x2.append(temp_list)\n",
        "\n",
        "            for i in k_x2:\n",
        "                ev = self.evaluate(i)\n",
        "                f_x2.append(ev)\n",
        "\n",
        "            for i in range(self.p):\n",
        "                if self.f_x[i] > f_x2[i]:\n",
        "                    self.f_x[i] = f_x2[i]\n",
        "                    self.k_x[i] = k_x2[i]\n",
        "\n",
        "        return self.f_x, self.k_x\n",
        "\n",
        "\n"
      ]
    },
    {
      "cell_type": "code",
      "source": [
        "# Values are initialized here\n",
        "jaya = Jaya(p=5, d=3, termination=10, ub=100, lb=-100)\n",
        "jaya.find_sol()\n",
        "final_f_x, final_k_x = jaya.jaya()\n",
        "print(\"Updated final:\")\n",
        "for i in range(jaya.p):\n",
        "    print(i,\":\\t\",jaya.k_x[i],jaya.f_x[i])"
      ],
      "metadata": {
        "colab": {
          "base_uri": "https://localhost:8080/"
        },
        "id": "iwsybGmqGp1G",
        "outputId": "f021b99d-6407-43aa-e1bc-d16f8a345580"
      },
      "execution_count": null,
      "outputs": [
        {
          "output_type": "stream",
          "name": "stdout",
          "text": [
            "0 :\t [-20.016054400389137, -30.34016430429429, 4.185413311179104] 1338.685688356306\n",
            "1 :\t [-64.51675254960861, -5.505752927582549, 73.5322516509162] 9599.716707700682\n",
            "2 :\t [42.520451730735665, 11.072396369544563, 24.436980486457728] 2527.7527920456414\n",
            "3 :\t [7.682696124757243, -18.85678303786385, -17.73280940409036] 729.0546156442254\n",
            "4 :\t [-49.63450480800614, -87.81011750037518, -66.08883602367075] 14541.935049929323\n",
            "Updated final:\n",
            "0 :\t [-0.5298162565216094, 2.6181765220989615, -3.1065919714913504] 16.7864672438793\n",
            "1 :\t [6.334524554291333, 3.28447392902023, 8.21460879426916] 118.39376796221764\n",
            "2 :\t [1.8696347052382483, 0.8499144546020081, 13.228625961906696] 179.21443335120458\n",
            "3 :\t [5.510147759197399, 7.072472066853678, -10.260522190569878] 185.65990508779055\n",
            "4 :\t [0.7821817427590706, -2.340463453282556, -9.260946670542879] 91.85471068949616\n"
          ]
        }
      ]
    },
    {
      "cell_type": "code",
      "source": [],
      "metadata": {
        "id": "VV-hyt7mG_GG"
      },
      "execution_count": null,
      "outputs": []
    }
  ]
}