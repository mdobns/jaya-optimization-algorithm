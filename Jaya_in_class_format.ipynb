{
  "nbformat": 4,
  "nbformat_minor": 0,
  "metadata": {
    "colab": {
      "provenance": [],
      "include_colab_link": true
    },
    "kernelspec": {
      "name": "python3",
      "display_name": "Python 3"
    },
    "language_info": {
      "name": "python"
    },
    "accelerator": "GPU",
    "gpuClass": "standard"
  },
  "cells": [
    {
      "cell_type": "markdown",
      "metadata": {
        "id": "view-in-github",
        "colab_type": "text"
      },
      "source": [
        "<a href=\"https://colab.research.google.com/github/mdobns/jaya-optimization-algorithm/blob/main/Jaya_in_class_format.ipynb\" target=\"_parent\"><img src=\"https://colab.research.google.com/assets/colab-badge.svg\" alt=\"Open In Colab\"/></a>"
      ]
    },
    {
      "cell_type": "code",
      "execution_count": null,
      "metadata": {
        "id": "_67YRjZ5Gi0b"
      },
      "outputs": [],
      "source": [
        "import random\n",
        "import numpy as np\n",
        "\n",
        "class Jaya:\n",
        "    def __init__(self, obj, p, d, termination, ub, lb,optimization='maximize'):\n",
        "        self.x = []\n",
        "        self.f_x = []\n",
        "        self.p = p\n",
        "        self.d = d\n",
        "        self.termination = termination\n",
        "        self.ub = ub\n",
        "        self.lb = lb\n",
        "        self.evaluate=obj\n",
        "        self.optimization=optimization\n",
        "\n",
        "    def generate_random(self, min_bound, max_bound, dimension):\n",
        "        return [random.uniform(min_bound, max_bound) for _ in range(dimension)]\n",
        "        \n",
        "\n",
        "    def find_sol(self):\n",
        "        print(\"Initial values:\")\n",
        "        for i in range(self.p):\n",
        "            gr = self.generate_random(self.ub, self.lb, self.d)\n",
        "            self.f_x.append(gr)\n",
        "            ev = self.evaluate(gr)\n",
        "            self.x.append(ev)\n",
        "            print(i, \":\\t\", gr, ev)\n",
        "        return self.x, self.f_x\n",
        "\n",
        "    def jaya(self):\n",
        "        for iter in range(self.termination):\n",
        "            f_x_updated = []\n",
        "            x_updated = []\n",
        "            max_sol = max(self.x)\n",
        "            min_sol = min(self.x)\n",
        "            if self.optimization == \"maximize\":\n",
        "              temp = max_sol\n",
        "              max_sol=min_sol\n",
        "              min_sol=temp\n",
        "            index_min = self.x.index(min_sol)\n",
        "            index_max = self.x.index(max_sol)\n",
        "            x_max = self.f_x[index_max]\n",
        "            x_min = self.f_x[index_min]\n",
        "            #print(\"The best solution in iteration\",iter,\"with ftness\",min_sol,\":\",x_min)\n",
        "            for i in self.f_x:\n",
        "                temp_list = []\n",
        "                m = 0\n",
        "                for j in i:\n",
        "                    new_x1 = j + (np.random.uniform(0, 1) * (x_min[m] - np.abs(j))) - (np.random.uniform(0, 1) * (x_max[m] - np.abs(j)))\n",
        "                    temp_list.append(new_x1)\n",
        "                    m += 1\n",
        "                f_x_updated.append(temp_list)\n",
        "\n",
        "            for i in f_x_updated:\n",
        "                ev = self.evaluate(i)\n",
        "                x_updated.append(ev)\n",
        "            \n",
        "            for i in range(self.p):\n",
        "                if self.x[i] > x_updated[i] and self.optimization == \"minimize\":\n",
        "                  self.x[i] = x_updated[i]\n",
        "                  self.f_x[i] = f_x_updated[i]\n",
        "                elif self.x[i] < x_updated[i] and self.optimization == \"maximize\":\n",
        "                  self.x[i] = x_updated[i]\n",
        "                  self.f_x[i] = f_x_updated[i]\n",
        "\n",
        "        print(\"Updated final:\")\n",
        "        max_sol = max(self.x)\n",
        "        min_sol = min(self.x)\n",
        "        for i in range(self.p):\n",
        "          print(i,\":\\t\",self.f_x[i],self.x[i] ,'=\\tworst' if self.x[i]==max_sol else '=\\tbest' if self.x[i] == min_sol else '' )\n",
        "        return self.f_x,self.x\n"
      ]
    },
    {
      "cell_type": "code",
      "source": [
        "def evaluate(x):\n",
        "  int_sum = 0\n",
        "  for i in range(len(x)):\n",
        "    int_sum += (x[i])**2\n",
        "  return int_sum\n",
        "\n",
        "# Values are initialized here\n",
        "jaya = Jaya(evaluate,p=5, d=2, termination=100, ub=30, lb=-30,optimization=\"minimize\")\n",
        "jaya.find_sol()\n",
        "final_x, final_f_x = jaya.jaya()"
      ],
      "metadata": {
        "colab": {
          "base_uri": "https://localhost:8080/"
        },
        "id": "iwsybGmqGp1G",
        "outputId": "ffb6daa6-e7a9-416c-f934-7a4760350743"
      },
      "execution_count": null,
      "outputs": [
        {
          "output_type": "stream",
          "name": "stdout",
          "text": [
            "Initial values:\n",
            "0 :\t [19.33898007622652, -25.414373681940404] 1019.8865400339913\n",
            "1 :\t [-10.600916889459576, -2.759809984398615] 119.99599004721557\n",
            "2 :\t [-24.77678680537185, -1.3920983310832042] 615.8271021622531\n",
            "3 :\t [-19.539874929199442, -23.39368365196306] 929.0711470568806\n",
            "4 :\t [-18.903971236521052, -18.84612129925155] 712.5364165373182\n",
            "Updated final:\n",
            "0 :\t [-2.506581332248816e-10, -5.691856160891679e-11] 6.606922240741055e-20 =\tbest\n",
            "1 :\t [-2.842346259653327e-09, -2.2081449265860767e-09] 1.2954836276573089e-17 =\tworst\n",
            "2 :\t [1.3875460716876034e-09, 1.4272816385129145e-09] 3.9624169766918095e-18 \n",
            "3 :\t [-1.106255343381438e-09, 1.2898687684881838e-09] 2.887562324681207e-18 \n",
            "4 :\t [3.9469432955455565e-10, 1.9655294198888123e-09] 4.0190895142309716e-18 \n"
          ]
        }
      ]
    },
    {
      "cell_type": "code",
      "source": [],
      "metadata": {
        "id": "2EOQyA_sQdiU"
      },
      "execution_count": null,
      "outputs": []
    }
  ]
}